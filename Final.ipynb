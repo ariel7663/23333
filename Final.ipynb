{
 "cells": [
  {
   "cell_type": "code",
   "execution_count": 1,
   "metadata": {},
   "outputs": [],
   "source": [
    "# Group Members: Ariel Liu, Yuqin Wang, Zihao Wang, Huanlun Li\n",
    "# Starting Date: 11.21.18\n",
    "\n",
    "# Our Project is mainly targeting on Twitter Crawling, allowing users to give in user input for specific tweet\n",
    "# searches. We will make a word map according to the frequencies of words the user chooses to post in his/her recent\n",
    "# tweets. We will input President Donald Trump's user ID as a demo in the end of our project."
   ]
  },
  {
   "cell_type": "code",
   "execution_count": 4,
   "metadata": {},
   "outputs": [
    {
     "name": "stdout",
     "output_type": "stream",
     "text": [
      "Enter the twitter handle of the person whose tweets you want to download:- \n"
     ]
    },
    {
     "ename": "IndexError",
     "evalue": "list index out of range",
     "output_type": "error",
     "traceback": [
      "\u001b[0;31m---------------------------------------------------------------------------\u001b[0m",
      "\u001b[0;31mIndexError\u001b[0m                                Traceback (most recent call last)",
      "\u001b[0;32m<ipython-input-4-7bda5c434d51>\u001b[0m in \u001b[0;36m<module>\u001b[0;34m\u001b[0m\n\u001b[1;32m     16\u001b[0m     \u001b[0;31m# Enter the twitter handle of the person concerned\u001b[0m\u001b[0;34m\u001b[0m\u001b[0;34m\u001b[0m\u001b[0m\n\u001b[1;32m     17\u001b[0m \u001b[0;34m\u001b[0m\u001b[0m\n\u001b[0;32m---> 18\u001b[0;31m     \u001b[0mget_all_tweets\u001b[0m\u001b[0;34m(\u001b[0m\u001b[0minput\u001b[0m\u001b[0;34m(\u001b[0m\u001b[0;34m\"Enter the twitter handle of the person whose tweets you want to download:- \"\u001b[0m\u001b[0;34m)\u001b[0m\u001b[0;34m)\u001b[0m\u001b[0;34m\u001b[0m\u001b[0m\n\u001b[0m\u001b[1;32m     19\u001b[0m \u001b[0;34m\u001b[0m\u001b[0m\n\u001b[1;32m     20\u001b[0m \u001b[0;34m\u001b[0m\u001b[0m\n",
      "\u001b[0;32m<ipython-input-3-c91a5178c5a7>\u001b[0m in \u001b[0;36mget_all_tweets\u001b[0;34m(screen_name)\u001b[0m\n\u001b[1;32m     38\u001b[0m     \u001b[0;31m# save id of 1 less than the oldest tweet\u001b[0m\u001b[0;34m\u001b[0m\u001b[0;34m\u001b[0m\u001b[0m\n\u001b[1;32m     39\u001b[0m \u001b[0;34m\u001b[0m\u001b[0m\n\u001b[0;32m---> 40\u001b[0;31m     \u001b[0moldest_tweet\u001b[0m \u001b[0;34m=\u001b[0m \u001b[0mall_the_tweets\u001b[0m\u001b[0;34m[\u001b[0m\u001b[0;34m-\u001b[0m\u001b[0;36m1\u001b[0m\u001b[0;34m]\u001b[0m\u001b[0;34m.\u001b[0m\u001b[0mid\u001b[0m \u001b[0;34m-\u001b[0m \u001b[0;36m1\u001b[0m\u001b[0;34m\u001b[0m\u001b[0m\n\u001b[0m\u001b[1;32m     41\u001b[0m \u001b[0;34m\u001b[0m\u001b[0m\n\u001b[1;32m     42\u001b[0m     \u001b[0;31m# grabbing tweets till none are left\u001b[0m\u001b[0;34m\u001b[0m\u001b[0;34m\u001b[0m\u001b[0m\n",
      "\u001b[0;31mIndexError\u001b[0m: list index out of range"
     ]
    }
   ],
   "source": [
    "\n",
    "# we use utf-8 -*-\n",
    "import tweepy\n",
    "import csv\n",
    "\n",
    "# APIs from dev environment\n",
    "##Four keys here: consumer key, consumer key secret, access key, access key secret\n",
    "ckey = '34jYgpQ3kswuFlA4nYNKgfJjr' \n",
    "ckey_secret = 'FJTyCCzlcVScDocOCNc3omEAVXD4ZpMppiJ3ufamVmXqd2wjeD'\n",
    "akey = '1034815350821593098-U0VnXpnIUtgFgcU1KmvZmpfnkYjPyL'\n",
    "akey_secret = '3M7zM2PJCUcbAChK48r1NrmlAn7h03wZwIMjehHaww34N'\n",
    "\n",
    "if __name__ == '__main__':\n",
    "\n",
    "    # Enter the username\n",
    "    # The username is followed by '@'. You should include '@'. For example, President Donald Trump's\n",
    "    # username is: @realDonaldTrump\n",
    "\n",
    "    get_tweets(input(\"Input the username whose tweets you wanna see: \"))\n",
    "    \n",
    "def get_tweets(user_name):\n",
    "    \n",
    "    # Use Tweepy package to do authentication\n",
    "    aut = tweepy.OAuthHandler(ckey, c_secret)\n",
    "    aut.set_access_token(akey, akey_secret)\n",
    "    api = tweepy.API(aut)\n",
    "    \n",
    "    #define a tweet holder\n",
    "    tweets_holder = []\n",
    "    \n",
    "    #Hold incoming new tweets, 100 tweets each time\n",
    "    add_in_tweets = api.user_timeline(screen_name=user_name,count = 100)\n",
    "    \n",
    "    #Put all tweets into the holder\n",
    "    tweets_holder.extend(add_in_tweets)\n",
    "\n",
    "    # Need further modification here!!\n",
    "    \n",
    "    oldest = tweets_holder[-1].id - 1\n",
    "\n",
    "    # Keep getting tweets until there's nothing left\n",
    "\n",
    "    while len(add_in_tweets) > 0:\n",
    "        \n",
    "        # In order to avoid any duplication, we set the maximum \n",
    "        # equal to the oldest tweet\n",
    "        \n",
    "        add_in_tweets = api.user_timeline(screen_name=user_name, count = 100, max_ = oldest)\n",
    "\n",
    "        # Extend tweets holder to save the new tweets\n",
    "\n",
    "        tweets_holder.extend(add_in_tweets)\n",
    "\n",
    "        # Update the oldest tweet\n",
    "\n",
    "        oldest = tweets_holder[-1].id - 1\n",
    "        print ('Completed downloading ...%s number of tweets' % len(tweets_holder))\n",
    "        \n",
    "\n",
    "        # transforming all tweets into a csv\n",
    "\n",
    "        output = [[tw.id_str, tw.created_at, tw.text.encode('utf-8')] for tw in tweets_holder]\n",
    "\n",
    "        # writing to the csv\n",
    "\n",
    "        with open(user_name + '_tweets_history.csv', 'w') as f:\n",
    "            writer = csv.writer(f)\n",
    "            writer.writerow(['ID', 'Create Time', 'Content'])\n",
    "            writer.writerows(output)"
   ]
  },
  {
   "cell_type": "code",
   "execution_count": null,
   "metadata": {},
   "outputs": [],
   "source": []
  },
  {
   "cell_type": "code",
   "execution_count": null,
   "metadata": {},
   "outputs": [],
   "source": []
  },
  {
   "cell_type": "code",
   "execution_count": null,
   "metadata": {},
   "outputs": [],
   "source": []
  },
  {
   "cell_type": "code",
   "execution_count": null,
   "metadata": {},
   "outputs": [],
   "source": [
    "#Visualizing the output"
   ]
  },
  {
   "cell_type": "code",
   "execution_count": null,
   "metadata": {},
   "outputs": [],
   "source": [
    "# load all necessary libraries\n",
    "import numpy as np\n",
    "import pandas as pd\n",
    "import wordcloud\n",
    "import matplotlib.pyplot as plt\n",
    "from os import path\n",
    "from PIL import Image"
   ]
  }
 ],
 "metadata": {
  "kernelspec": {
   "display_name": "Python 3",
   "language": "python",
   "name": "python3"
  },
  "language_info": {
   "codemirror_mode": {
    "name": "ipython",
    "version": 3
   },
   "file_extension": ".py",
   "mimetype": "text/x-python",
   "name": "python",
   "nbconvert_exporter": "python",
   "pygments_lexer": "ipython3",
   "version": "3.6.3"
  }
 },
 "nbformat": 4,
 "nbformat_minor": 2
}
