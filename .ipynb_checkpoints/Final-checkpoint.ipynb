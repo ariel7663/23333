{
 "cells": [
  {
   "cell_type": "code",
   "execution_count": 1,
   "metadata": {},
   "outputs": [],
   "source": [
    "# Group Members: Ariel Liu, Yuqin Wang, Zihao Wang, Huanlun Li\n",
    "# Starting Date: 11.21.18\n",
    "\n",
    "# Our Project is mainly targeting on Twitter Crawling, allowing users to give in user input for specific tweet\n",
    "# searches. We will make a word map according to the frequencies of words the user chooses to post in his/her recent\n",
    "# tweets. We will input President Donald Trump's user ID as a demo in the end of our project."
   ]
  },
  {
   "cell_type": "code",
   "execution_count": null,
   "metadata": {},
   "outputs": [],
   "source": [
    "\n",
    "# we use utf-8 -*-\n",
    "import tweepy\n",
    "import csv\n",
    "\n",
    "# APIs from dev environment\n",
    "##Four keys here: consumer key, consumer key secret, access key, access key secret\n",
    "ckey = '34jYgpQ3kswuFlA4nYNKgfJjr' \n",
    "ckey_secret = 'FJTyCCzlcVScDocOCNc3omEAVXD4ZpMppiJ3ufamVmXqd2wjeD'\n",
    "akey = '1034815350821593098-U0VnXpnIUtgFgcU1KmvZmpfnkYjPyL'\n",
    "akey_secret = '3M7zM2PJCUcbAChK48r1NrmlAn7h03wZwIMjehHaww34N'\n",
    "\n",
    "# for bold text\n",
    "bold = \"\\033[1m\"\n",
    "reset = \"\\033[0;0m\"\n",
    "\n",
    "def get_tweets(user_name):\n",
    "    \n",
    "    # Use Tweepy package to do authentication\n",
    "    aut = tweepy.OAuthHandler(ckey, ckey_secret)\n",
    "    aut.set_access_token(akey, akey_secret)\n",
    "    api = tweepy.API(aut)\n",
    "    \n",
    "    #define a tweet holder\n",
    "    tweets_holder = []\n",
    "    \n",
    "    #Hold incoming new tweets, 500 tweets each time\n",
    "    add_in_tweets = api.user_timeline(screen_name=user_name, count = 500)\n",
    "    # print(add_in_tweets)\n",
    "    \n",
    "    # If the twitter account has no tweet, let the user try another account\n",
    "    if add_in_tweets == []:\n",
    "        print(bold + \"Attention: This twitter user has no tweet in history, please try another one.\" + reset)\n",
    "        return get_tweets(input(\"Input the username(e.g. @xxxxx) whose tweets you wanna see: \"))\n",
    "    \n",
    "    #Put all tweets into the holder\n",
    "    tweets_holder.extend(add_in_tweets)\n",
    "\n",
    "    # Need further modification here!!\n",
    "    \n",
    "    oldest = tweets_holder[-1].id - 1\n",
    "\n",
    "    # Keep getting tweets until there's nothing left\n",
    "\n",
    "    while len(add_in_tweets) > 0:\n",
    "        \n",
    "        # We set the maximum equal to the oldest tweet to avoid duplication\n",
    "        \n",
    "        add_in_tweets = api.user_timeline(screen_name=user_name, count = 500, max_id = oldest)\n",
    "\n",
    "        # Extend tweets holder to save the new tweets\n",
    "\n",
    "        tweets_holder.extend(add_in_tweets)\n",
    "\n",
    "        # Update the oldest tweet\n",
    "\n",
    "        oldest = tweets_holder[-1].id - 1\n",
    "        print ('Completed downloading %s number of tweets' % len(tweets_holder))\n",
    "        \n",
    "\n",
    "        # transforming all tweets into a csv\n",
    "\n",
    "    output = [[tweet.id_str, tweet.created_at, tweet.text.encode('utf-8')] for tweet in tweets_holder]\n",
    "\n",
    "    # writing to the csv\n",
    "\n",
    "    with open(user_name + '_tweets_history.csv', 'w', encoding='utf8') as f:\n",
    "        writer = csv.writer(f)\n",
    "        writer.writerow(['ID', 'Create Time', 'Content'])\n",
    "        writer.writerows(output)\n",
    "            \n",
    "if __name__ == '__main__':\n",
    "\n",
    "    # Enter the username\n",
    "    # The username is followed by '@'. You should include '@'. For example, President Donald Trump's\n",
    "    # username is: @realDonaldTrump\n",
    "\n",
    "    get_tweets(input(\"Input the username(e.g. @xxxxx) whose tweets you wanna see: \"))\n",
    "    "
   ]
  },
  {
   "cell_type": "code",
   "execution_count": null,
   "metadata": {},
   "outputs": [],
   "source": [
    "#Visualizing the output"
   ]
  },
  {
   "cell_type": "code",
   "execution_count": 1,
   "metadata": {},
   "outputs": [
    {
     "name": "stderr",
     "output_type": "stream",
     "text": [
      "ERROR:root:Internal Python error in the inspect module.\n",
      "Below is the traceback from this internal error.\n",
      "\n"
     ]
    },
    {
     "name": "stdout",
     "output_type": "stream",
     "text": [
      "Traceback (most recent call last):\n",
      "  File \"/usr/local/lib/python3.6/site-packages/IPython/core/interactiveshell.py\", line 3265, in run_code\n",
      "    exec(code_obj, self.user_global_ns, self.user_ns)\n",
      "  File \"<ipython-input-1-700da3a513a9>\", line 3, in <module>\n",
      "    import pandas as pd\n",
      "ModuleNotFoundError: No module named 'pandas'\n",
      "\n",
      "During handling of the above exception, another exception occurred:\n",
      "\n",
      "Traceback (most recent call last):\n",
      "  File \"/usr/local/lib/python3.6/site-packages/IPython/core/interactiveshell.py\", line 2016, in showtraceback\n",
      "    stb = value._render_traceback_()\n",
      "AttributeError: 'ModuleNotFoundError' object has no attribute '_render_traceback_'\n",
      "\n",
      "During handling of the above exception, another exception occurred:\n",
      "\n",
      "Traceback (most recent call last):\n",
      "  File \"/usr/local/lib/python3.6/site-packages/IPython/core/ultratb.py\", line 1095, in get_records\n",
      "    return _fixed_getinnerframes(etb, number_of_lines_of_context, tb_offset)\n",
      "  File \"/usr/local/lib/python3.6/site-packages/IPython/core/ultratb.py\", line 313, in wrapped\n",
      "    return f(*args, **kwargs)\n",
      "  File \"/usr/local/lib/python3.6/site-packages/IPython/core/ultratb.py\", line 347, in _fixed_getinnerframes\n",
      "    records = fix_frame_records_filenames(inspect.getinnerframes(etb, context))\n",
      "  File \"/usr/local/lib/python3.6/inspect.py\", line 1480, in getinnerframes\n",
      "    frameinfo = (tb.tb_frame,) + getframeinfo(tb, context)\n",
      "  File \"/usr/local/lib/python3.6/inspect.py\", line 1438, in getframeinfo\n",
      "    filename = getsourcefile(frame) or getfile(frame)\n",
      "  File \"/usr/local/lib/python3.6/inspect.py\", line 693, in getsourcefile\n",
      "    if getattr(getmodule(object, filename), '__loader__', None) is not None:\n",
      "  File \"/usr/local/lib/python3.6/inspect.py\", line 722, in getmodule\n",
      "    file = getabsfile(object, _filename)\n",
      "  File \"/usr/local/lib/python3.6/inspect.py\", line 706, in getabsfile\n",
      "    return os.path.normcase(os.path.abspath(_filename))\n",
      "  File \"/usr/local/lib/python3.6/posixpath.py\", line 374, in abspath\n",
      "    cwd = os.getcwd()\n",
      "FileNotFoundError: [Errno 2] No such file or directory\n"
     ]
    },
    {
     "ename": "ModuleNotFoundError",
     "evalue": "No module named 'pandas'",
     "output_type": "error",
     "traceback": [
      "\u001b[0;31m---------------------------------------------------------------------------\u001b[0m"
     ]
    }
   ],
   "source": [
    "# load all necessary libraries\n",
    "import numpy as np\n",
    "import pandas as pd\n",
    "import wordcloud\n",
    "import matplotlib.pyplot as plt\n",
    "from os import path\n",
    "from PIL import Image"
   ]
  },
  {
   "cell_type": "code",
   "execution_count": 3,
   "metadata": {},
   "outputs": [
    {
     "ename": "FileNotFoundError",
     "evalue": "[Errno 2] No such file or directory: 'txt address'",
     "output_type": "error",
     "traceback": [
      "\u001b[0;31m---------------------------------------------------------------------------\u001b[0m",
      "\u001b[0;31mFileNotFoundError\u001b[0m                         Traceback (most recent call last)",
      "\u001b[0;32m<ipython-input-3-2e3c948f1677>\u001b[0m in \u001b[0;36m<module>\u001b[0;34m\u001b[0m\n\u001b[1;32m      3\u001b[0m \u001b[0;31m# text read-in\u001b[0m\u001b[0;34m\u001b[0m\u001b[0;34m\u001b[0m\u001b[0m\n\u001b[1;32m      4\u001b[0m \u001b[0;31m# address need modification\u001b[0m\u001b[0;34m\u001b[0m\u001b[0;34m\u001b[0m\u001b[0m\n\u001b[0;32m----> 5\u001b[0;31m \u001b[0mtext\u001b[0m \u001b[0;34m=\u001b[0m \u001b[0mopen\u001b[0m\u001b[0;34m(\u001b[0m\u001b[0;34mr'txt address'\u001b[0m\u001b[0;34m)\u001b[0m\u001b[0;34m.\u001b[0m\u001b[0mread\u001b[0m\u001b[0;34m(\u001b[0m\u001b[0;34m)\u001b[0m\u001b[0;34m\u001b[0m\u001b[0m\n\u001b[0m\u001b[1;32m      6\u001b[0m \u001b[0;34m\u001b[0m\u001b[0m\n\u001b[1;32m      7\u001b[0m \u001b[0;31m# create a word cloud image\u001b[0m\u001b[0;34m\u001b[0m\u001b[0;34m\u001b[0m\u001b[0m\n",
      "\u001b[0;31mFileNotFoundError\u001b[0m: [Errno 2] No such file or directory: 'txt address'"
     ]
    }
   ],
   "source": [
    "# Generating word map(regular)\n",
    "\n",
    "# text read-in\n",
    "# address need modification\n",
    "text = open(r'txt address').read()\n",
    "\n",
    "# create a word cloud image\n",
    "wordmap = WordCloud().generate(text)\n",
    "\n",
    "# display the image\n",
    "plt.imshow(wordcloud,interpolation=\"bilinear\" )\n",
    "plt.axis(\"off\")\n",
    "plt.show()"
   ]
  },
  {
   "cell_type": "code",
   "execution_count": null,
   "metadata": {},
   "outputs": [],
   "source": [
    "# Generating flag-shaped worldmap\n",
    "\n",
    "# Define mask\n",
    "# image link??\n",
    "flag_us_mask = np.array(Image.open(\"img/USflag.png\"))\n",
    "# Should add more flags\n",
    "\n",
    "\n",
    "image_colors = ImageColorGenerator(flag_us_mask)\n",
    "plt.figure(figsize=(10,8))\n",
    "plt.imshow(flag_us.recolor(color_func=image_colors), interpolation=\"bilinear\")\n",
    "plt.axis(\"off\")\n",
    "plt.show()"
   ]
  }
 ],
 "metadata": {
  "kernelspec": {
   "display_name": "Python 3",
   "language": "python",
   "name": "python3"
  },
  "language_info": {
   "codemirror_mode": {
    "name": "ipython",
    "version": 3
   },
   "file_extension": ".py",
   "mimetype": "text/x-python",
   "name": "python",
   "nbconvert_exporter": "python",
   "pygments_lexer": "ipython3",
   "version": "3.6.3"
  }
 },
 "nbformat": 4,
 "nbformat_minor": 2
}
