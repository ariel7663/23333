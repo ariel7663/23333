{
 "cells": [
  {
   "cell_type": "code",
   "execution_count": 1,
   "metadata": {},
   "outputs": [],
   "source": [
    "# Group Members: Ariel Liu, Yuqin Wang, Zihao Wang, Huanlun Li\n",
    "# Starting Date: 11.21.18\n",
    "\n",
    "# Our Project is mainly targeting on Twitter Crawling, allowing users to give in user input for specific tweet\n",
    "# searches. We will make a word map according to the frequencies of words the user chooses to post in his/her recent\n",
    "# tweets. We will input President Donald Trump's user ID as a demo in the end of our project."
   ]
  },
  {
   "cell_type": "code",
   "execution_count": 7,
   "metadata": {},
   "outputs": [
    {
     "name": "stdout",
     "output_type": "stream",
     "text": [
      "Input the username(e.g. @xxxxx) whose tweets you wanna see: @Capt_Roskilde\n",
      "\u001b[1mAttention: This twitter user has no tweet in history, please try another.\u001b[0;0m\n",
      "Input the username(e.g. @xxxxx) whose tweets you wanna see: @realDonaldTrump\n",
      "Completed downloading ...400 number of tweets\n",
      "Completed downloading ...599 number of tweets\n",
      "Completed downloading ...797 number of tweets\n",
      "Completed downloading ...993 number of tweets\n",
      "Completed downloading ...1193 number of tweets\n",
      "Completed downloading ...1393 number of tweets\n",
      "Completed downloading ...1593 number of tweets\n",
      "Completed downloading ...1793 number of tweets\n",
      "Completed downloading ...1993 number of tweets\n",
      "Completed downloading ...2193 number of tweets\n",
      "Completed downloading ...2393 number of tweets\n",
      "Completed downloading ...2593 number of tweets\n",
      "Completed downloading ...2793 number of tweets\n",
      "Completed downloading ...2993 number of tweets\n",
      "Completed downloading ...3193 number of tweets\n",
      "Completed downloading ...3224 number of tweets\n",
      "Completed downloading ...3224 number of tweets\n"
     ]
    }
   ],
   "source": [
    "\n",
    "# we use utf-8 -*-\n",
    "import tweepy\n",
    "import csv\n",
    "\n",
    "# APIs from dev environment\n",
    "##Four keys here: consumer key, consumer key secret, access key, access key secret\n",
    "ckey = '34jYgpQ3kswuFlA4nYNKgfJjr' \n",
    "ckey_secret = 'FJTyCCzlcVScDocOCNc3omEAVXD4ZpMppiJ3ufamVmXqd2wjeD'\n",
    "akey = '1034815350821593098-U0VnXpnIUtgFgcU1KmvZmpfnkYjPyL'\n",
    "akey_secret = '3M7zM2PJCUcbAChK48r1NrmlAn7h03wZwIMjehHaww34N'\n",
    "\n",
    "# for bold text\n",
    "bold = \"\\033[1m\"\n",
    "reset = \"\\033[0;0m\"\n",
    "\n",
    "def get_tweets(user_name):\n",
    "    \n",
    "    # Use Tweepy package to do authentication\n",
    "    aut = tweepy.OAuthHandler(ckey, ckey_secret)\n",
    "    aut.set_access_token(akey, akey_secret)\n",
    "    api = tweepy.API(aut)\n",
    "    \n",
    "    #define a tweet holder\n",
    "    tweets_holder = []\n",
    "    \n",
    "    #Hold incoming new tweets, 500 tweets each time\n",
    "    add_in_tweets = api.user_timeline(screen_name=user_name, count = 500)\n",
    "    # print(add_in_tweets)\n",
    "    \n",
    "    # If the twitter account has no tweet, let the user try another account\n",
    "    if add_in_tweets == []:\n",
    "        print(bold + \"Attention: This twitter user has no tweet in history, please try another one.\" + reset)\n",
    "        return get_tweets(input(\"Input the username(e.g. @xxxxx) whose tweets you wanna see: \"))\n",
    "    \n",
    "    #Put all tweets into the holder\n",
    "    tweets_holder.extend(add_in_tweets)\n",
    "\n",
    "    # Need further modification here!!\n",
    "    \n",
    "    oldest = tweets_holder[-1].id - 1\n",
    "\n",
    "    # Keep getting tweets until there's nothing left\n",
    "\n",
    "    while len(add_in_tweets) > 0:\n",
    "        \n",
    "        # In order to avoid any duplication, we set the maximum \n",
    "        # equal to the oldest tweet\n",
    "        \n",
    "        add_in_tweets = api.user_timeline(screen_name=user_name, count = 500, max_id = oldest)\n",
    "\n",
    "        # Extend tweets holder to save the new tweets\n",
    "\n",
    "        tweets_holder.extend(add_in_tweets)\n",
    "\n",
    "        # Update the oldest tweet\n",
    "\n",
    "        oldest = tweets_holder[-1].id - 1\n",
    "        print ('Completed downloading ...%s number of tweets' % len(tweets_holder))\n",
    "        \n",
    "\n",
    "        # transforming all tweets into a csv\n",
    "\n",
    "    output = [[tweet.id_str, tweet.created_at, tweet.text.encode('utf-8')] for tweet in tweets_holder]\n",
    "\n",
    "    # writing to the csv\n",
    "\n",
    "    with open(user_name + '_tweets_history.csv', 'w', encoding='utf8') as f:\n",
    "        writer = csv.writer(f)\n",
    "        writer.writerow(['ID', 'Create Time', 'Content'])\n",
    "        writer.writerows(output)\n",
    "            \n",
    "if __name__ == '__main__':\n",
    "\n",
    "    # Enter the username\n",
    "    # The username is followed by '@'. You should include '@'. For example, President Donald Trump's\n",
    "    # username is: @realDonaldTrump\n",
    "\n",
    "    get_tweets(input(\"Input the username(e.g. @xxxxx) whose tweets you wanna see: \"))\n",
    "    "
   ]
  },
  {
   "cell_type": "code",
   "execution_count": null,
   "metadata": {},
   "outputs": [],
   "source": [
    "#Visualizing the output"
   ]
  },
  {
   "cell_type": "code",
   "execution_count": null,
   "metadata": {},
   "outputs": [],
   "source": [
    "# load all necessary libraries\n",
    "import numpy as np\n",
    "import pandas as pd\n",
    "import wordcloud\n",
    "import matplotlib.pyplot as plt\n",
    "from os import path\n",
    "from PIL import Image"
   ]
  },
  {
   "cell_type": "code",
   "execution_count": null,
   "metadata": {},
   "outputs": [],
   "source": [
    "# Generating word map(regular)\n",
    "\n",
    "# text read-in\n",
    "# address need modification\n",
    "text = open(r'txt address').read()\n",
    "\n",
    "# create a word cloud image\n",
    "wordmap = WordCloud().generate(text)\n",
    "\n",
    "# display the image\n",
    "plt.imshow(wordcloud,interpolation=\"bilinear\" )\n",
    "plt.axis(\"off\")\n",
    "plt.show()"
   ]
  }
 ],
 "metadata": {
  "kernelspec": {
   "display_name": "Python 3",
   "language": "python",
   "name": "python3"
  },
  "language_info": {
   "codemirror_mode": {
    "name": "ipython",
    "version": 3
   },
   "file_extension": ".py",
   "mimetype": "text/x-python",
   "name": "python",
   "nbconvert_exporter": "python",
   "pygments_lexer": "ipython3",
   "version": "3.6.3"
  }
 },
 "nbformat": 4,
 "nbformat_minor": 2
}
