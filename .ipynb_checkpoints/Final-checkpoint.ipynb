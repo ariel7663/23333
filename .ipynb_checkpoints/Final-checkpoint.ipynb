{
 "cells": [
  {
   "cell_type": "code",
   "execution_count": 1,
   "metadata": {},
   "outputs": [],
   "source": [
    "# Group Members: Ariel Liu, Yuqin Wang, Zihao Wang, Huanlun Li\n",
    "# Starting Date: 11.21.18\n",
    "\n",
    "# Our Project is mainly targeting on Twitter Crawling, allowing users to give in user input for specific tweet\n",
    "# searches. We will make a word map according to the frequencies of words the user chooses to post in his/her recent\n",
    "# tweets. We will input President Donald Trump's user ID as a demo in the end of our project."
   ]
  },
  {
   "cell_type": "code",
   "execution_count": 35,
   "metadata": {},
   "outputs": [
    {
     "name": "stdout",
     "output_type": "stream",
     "text": [
      "Input the username(e.g. @xxxxx) whose tweets you wanna see: @realDonaldTrump\n",
      "Completed downloading 400 number of tweets\n",
      "Completed downloading 599 number of tweets\n",
      "Completed downloading 797 number of tweets\n",
      "Completed downloading 993 number of tweets\n",
      "Completed downloading 1193 number of tweets\n",
      "Completed downloading 1393 number of tweets\n",
      "Completed downloading 1593 number of tweets\n",
      "Completed downloading 1793 number of tweets\n",
      "Completed downloading 1993 number of tweets\n",
      "Completed downloading 2193 number of tweets\n",
      "Completed downloading 2393 number of tweets\n",
      "Completed downloading 2593 number of tweets\n",
      "Completed downloading 2793 number of tweets\n",
      "Completed downloading 2993 number of tweets\n",
      "Completed downloading 3193 number of tweets\n",
      "Completed downloading 3239 number of tweets\n",
      "Completed downloading 3239 number of tweets\n"
     ]
    }
   ],
   "source": [
    "\n",
    "# we use utf-8 -*-\n",
    "import tweepy\n",
    "import csv\n",
    "\n",
    "# APIs from dev environment\n",
    "##Four keys here: consumer key, consumer key secret, access key, access key secret\n",
    "ckey = '34jYgpQ3kswuFlA4nYNKgfJjr' \n",
    "ckey_secret = 'FJTyCCzlcVScDocOCNc3omEAVXD4ZpMppiJ3ufamVmXqd2wjeD'\n",
    "akey = '1034815350821593098-U0VnXpnIUtgFgcU1KmvZmpfnkYjPyL'\n",
    "akey_secret = '3M7zM2PJCUcbAChK48r1NrmlAn7h03wZwIMjehHaww34N'\n",
    "\n",
    "# for bold text\n",
    "bold = \"\\033[1m\"\n",
    "reset = \"\\033[0;0m\"\n",
    "\n",
    "def get_tweets(user_name):\n",
    "    \n",
    "    # Use Tweepy package to do authentication\n",
    "    aut = tweepy.OAuthHandler(ckey, ckey_secret)\n",
    "    aut.set_access_token(akey, akey_secret)\n",
    "    api = tweepy.API(aut)\n",
    "    \n",
    "    #define a tweet holder\n",
    "    tweets_holder = []\n",
    "    \n",
    "    #Hold incoming new tweets, 500 tweets each time\n",
    "    add_in_tweets = api.user_timeline(screen_name=user_name, count = 500)\n",
    "    # print(add_in_tweets)\n",
    "    \n",
    "    # If the twitter account has no tweet, let the user try another account\n",
    "    if add_in_tweets == []:\n",
    "        print(bold + \"Attention: This twitter user has no tweet in history, please try another one.\" + reset)\n",
    "        return get_tweets(input(\"Input the username(e.g. @xxxxx) whose tweets you wanna see: \"))\n",
    "    \n",
    "    #Put all tweets into the holder\n",
    "    tweets_holder.extend(add_in_tweets)\n",
    "\n",
    "    # Need further modification here!!\n",
    "    \n",
    "    oldest = tweets_holder[-1].id - 1\n",
    "\n",
    "    # Keep getting tweets until there's nothing left\n",
    "\n",
    "    while len(add_in_tweets) > 0:\n",
    "        \n",
    "        # We set the maximum equal to the oldest tweet to avoid duplication\n",
    "        \n",
    "        add_in_tweets = api.user_timeline(screen_name=user_name, count = 500, max_id = oldest)\n",
    "\n",
    "        # Extend tweets holder to save the new tweets\n",
    "\n",
    "        tweets_holder.extend(add_in_tweets)\n",
    "\n",
    "        # Update the oldest tweet\n",
    "\n",
    "        oldest = tweets_holder[-1].id - 1\n",
    "        print ('Completed downloading %s number of tweets' % len(tweets_holder))\n",
    "        \n",
    "\n",
    "        # transforming all tweets into a csv\n",
    "\n",
    "    output = [[tweet.id_str, tweet.text.encode('utf-8'), tweet.created_at] for tweet in tweets_holder]\n",
    "\n",
    "    # writing to the csv\n",
    "\n",
    "    with open(user_name + '_tweets_history.csv', 'w', encoding='utf8') as csvfile:\n",
    "        writer = csv.writer(csvfile)\n",
    "        writer.writerow(['ID','Content', 'Create Time'])\n",
    "        writer.writerows(output)\n",
    "            \n",
    "if __name__ == '__main__':\n",
    "\n",
    "    # Enter the username\n",
    "    # The username is followed by '@'. You should include '@'. For example, President Donald Trump's\n",
    "    # username is: @realDonaldTrump\n",
    "\n",
    "    get_tweets(input(\"Input the username(e.g. @xxxxx) whose tweets you wanna see: \"))\n",
    "    "
   ]
  },
  {
   "cell_type": "code",
   "execution_count": 11,
   "metadata": {},
   "outputs": [],
   "source": [
    "#Visualizing the output"
   ]
  },
  {
   "cell_type": "code",
   "execution_count": 27,
   "metadata": {},
   "outputs": [],
   "source": [
    "# load all necessary libraries\n",
    "# first pip install . is needed to import 'numpy' and 'pandas' in vm\n",
    "import numpy as np\n",
    "import pandas as pd\n",
    "# wordcloud can be a little tricky to install. We want to mask the cloud into any shape of your choice \n",
    "# This requires a different method from a user from github to install:\n",
    "# git clone https://github.com/amueller/word_cloud.git\n",
    "# cd word_cloud\n",
    "# pip install .\n",
    "from wordcloud import WordCloud\n",
    "import matplotlib.pyplot as plt\n",
    "from os import path\n",
    "from PIL import Image"
   ]
  },
  {
   "cell_type": "code",
   "execution_count": 38,
   "metadata": {},
   "outputs": [
    {
     "ename": "TypeError",
     "evalue": "Image data cannot be converted to float",
     "output_type": "error",
     "traceback": [
      "\u001b[0;31m---------------------------------------------------------------------------\u001b[0m",
      "\u001b[0;31mTypeError\u001b[0m                                 Traceback (most recent call last)",
      "\u001b[0;32m<ipython-input-38-c2a909422147>\u001b[0m in \u001b[0;36m<module>\u001b[0;34m\u001b[0m\n\u001b[1;32m     21\u001b[0m \u001b[0;34m\u001b[0m\u001b[0m\n\u001b[1;32m     22\u001b[0m \u001b[0;31m# display the image\u001b[0m\u001b[0;34m\u001b[0m\u001b[0;34m\u001b[0m\u001b[0m\n\u001b[0;32m---> 23\u001b[0;31m \u001b[0mplt\u001b[0m\u001b[0;34m.\u001b[0m\u001b[0mimshow\u001b[0m\u001b[0;34m(\u001b[0m\u001b[0mwordcloud\u001b[0m\u001b[0;34m,\u001b[0m\u001b[0minterpolation\u001b[0m\u001b[0;34m=\u001b[0m\u001b[0;34m\"bilinear\"\u001b[0m \u001b[0;34m)\u001b[0m\u001b[0;34m\u001b[0m\u001b[0m\n\u001b[0m\u001b[1;32m     24\u001b[0m \u001b[0mplt\u001b[0m\u001b[0;34m.\u001b[0m\u001b[0maxis\u001b[0m\u001b[0;34m(\u001b[0m\u001b[0;34m\"off\"\u001b[0m\u001b[0;34m)\u001b[0m\u001b[0;34m\u001b[0m\u001b[0m\n\u001b[1;32m     25\u001b[0m \u001b[0mplt\u001b[0m\u001b[0;34m.\u001b[0m\u001b[0mshow\u001b[0m\u001b[0;34m(\u001b[0m\u001b[0;34m)\u001b[0m\u001b[0;34m\u001b[0m\u001b[0m\n",
      "\u001b[0;32m/usr/local/lib/python3.6/site-packages/matplotlib/pyplot.py\u001b[0m in \u001b[0;36mimshow\u001b[0;34m(X, cmap, norm, aspect, interpolation, alpha, vmin, vmax, origin, extent, shape, filternorm, filterrad, imlim, resample, url, data, **kwargs)\u001b[0m\n\u001b[1;32m   2699\u001b[0m         \u001b[0mfilternorm\u001b[0m\u001b[0;34m=\u001b[0m\u001b[0mfilternorm\u001b[0m\u001b[0;34m,\u001b[0m \u001b[0mfilterrad\u001b[0m\u001b[0;34m=\u001b[0m\u001b[0mfilterrad\u001b[0m\u001b[0;34m,\u001b[0m \u001b[0mimlim\u001b[0m\u001b[0;34m=\u001b[0m\u001b[0mimlim\u001b[0m\u001b[0;34m,\u001b[0m\u001b[0;34m\u001b[0m\u001b[0m\n\u001b[1;32m   2700\u001b[0m         resample=resample, url=url, **({\"data\": data} if data is not\n\u001b[0;32m-> 2701\u001b[0;31m         None else {}), **kwargs)\n\u001b[0m\u001b[1;32m   2702\u001b[0m     \u001b[0msci\u001b[0m\u001b[0;34m(\u001b[0m\u001b[0m__ret\u001b[0m\u001b[0;34m)\u001b[0m\u001b[0;34m\u001b[0m\u001b[0m\n\u001b[1;32m   2703\u001b[0m     \u001b[0;32mreturn\u001b[0m \u001b[0m__ret\u001b[0m\u001b[0;34m\u001b[0m\u001b[0m\n",
      "\u001b[0;32m/usr/local/lib/python3.6/site-packages/matplotlib/__init__.py\u001b[0m in \u001b[0;36minner\u001b[0;34m(ax, data, *args, **kwargs)\u001b[0m\n\u001b[1;32m   1808\u001b[0m                         \u001b[0;34m\"the Matplotlib list!)\"\u001b[0m \u001b[0;34m%\u001b[0m \u001b[0;34m(\u001b[0m\u001b[0mlabel_namer\u001b[0m\u001b[0;34m,\u001b[0m \u001b[0mfunc\u001b[0m\u001b[0;34m.\u001b[0m\u001b[0m__name__\u001b[0m\u001b[0;34m)\u001b[0m\u001b[0;34m,\u001b[0m\u001b[0;34m\u001b[0m\u001b[0m\n\u001b[1;32m   1809\u001b[0m                         RuntimeWarning, stacklevel=2)\n\u001b[0;32m-> 1810\u001b[0;31m             \u001b[0;32mreturn\u001b[0m \u001b[0mfunc\u001b[0m\u001b[0;34m(\u001b[0m\u001b[0max\u001b[0m\u001b[0;34m,\u001b[0m \u001b[0;34m*\u001b[0m\u001b[0margs\u001b[0m\u001b[0;34m,\u001b[0m \u001b[0;34m**\u001b[0m\u001b[0mkwargs\u001b[0m\u001b[0;34m)\u001b[0m\u001b[0;34m\u001b[0m\u001b[0m\n\u001b[0m\u001b[1;32m   1811\u001b[0m \u001b[0;34m\u001b[0m\u001b[0m\n\u001b[1;32m   1812\u001b[0m         inner.__doc__ = _add_data_doc(inner.__doc__,\n",
      "\u001b[0;32m/usr/local/lib/python3.6/site-packages/matplotlib/axes/_axes.py\u001b[0m in \u001b[0;36mimshow\u001b[0;34m(self, X, cmap, norm, aspect, interpolation, alpha, vmin, vmax, origin, extent, shape, filternorm, filterrad, imlim, resample, url, **kwargs)\u001b[0m\n\u001b[1;32m   5492\u001b[0m                               resample=resample, **kwargs)\n\u001b[1;32m   5493\u001b[0m \u001b[0;34m\u001b[0m\u001b[0m\n\u001b[0;32m-> 5494\u001b[0;31m         \u001b[0mim\u001b[0m\u001b[0;34m.\u001b[0m\u001b[0mset_data\u001b[0m\u001b[0;34m(\u001b[0m\u001b[0mX\u001b[0m\u001b[0;34m)\u001b[0m\u001b[0;34m\u001b[0m\u001b[0m\n\u001b[0m\u001b[1;32m   5495\u001b[0m         \u001b[0mim\u001b[0m\u001b[0;34m.\u001b[0m\u001b[0mset_alpha\u001b[0m\u001b[0;34m(\u001b[0m\u001b[0malpha\u001b[0m\u001b[0;34m)\u001b[0m\u001b[0;34m\u001b[0m\u001b[0m\n\u001b[1;32m   5496\u001b[0m         \u001b[0;32mif\u001b[0m \u001b[0mim\u001b[0m\u001b[0;34m.\u001b[0m\u001b[0mget_clip_path\u001b[0m\u001b[0;34m(\u001b[0m\u001b[0;34m)\u001b[0m \u001b[0;32mis\u001b[0m \u001b[0;32mNone\u001b[0m\u001b[0;34m:\u001b[0m\u001b[0;34m\u001b[0m\u001b[0m\n",
      "\u001b[0;32m/usr/local/lib/python3.6/site-packages/matplotlib/image.py\u001b[0m in \u001b[0;36mset_data\u001b[0;34m(self, A)\u001b[0m\n\u001b[1;32m    640\u001b[0m         if (self._A.dtype != np.uint8 and\n\u001b[1;32m    641\u001b[0m                 not np.can_cast(self._A.dtype, float, \"same_kind\")):\n\u001b[0;32m--> 642\u001b[0;31m             \u001b[0;32mraise\u001b[0m \u001b[0mTypeError\u001b[0m\u001b[0;34m(\u001b[0m\u001b[0;34m\"Image data cannot be converted to float\"\u001b[0m\u001b[0;34m)\u001b[0m\u001b[0;34m\u001b[0m\u001b[0m\n\u001b[0m\u001b[1;32m    643\u001b[0m \u001b[0;34m\u001b[0m\u001b[0m\n\u001b[1;32m    644\u001b[0m         if not (self._A.ndim == 2\n",
      "\u001b[0;31mTypeError\u001b[0m: Image data cannot be converted to float"
     ]
    },
    {
     "data": {
      "image/png": "[encoded data removed]",
      "text/plain": [
       "<Figure size 432x288 with 1 Axes>"
      ]
     },
     "metadata": {
      "needs_background": "light"
     },
     "output_type": "display_data"
    }
   ],
   "source": [
    "# Generating word map(regular)\n",
    "\n",
    "# text read-in\n",
    "# address need modification\n",
    "# text = open(r'txt address').read()\n",
    "# read first column of csv file to string of words seperated\n",
    "# by tab\n",
    "\n",
    "your_list = []\n",
    "with open('@realDonaldTrump_tweets_history.csv', 'rt',encoding='utf8') as csvfile:\n",
    "    reader = csv.reader(csvfile)\n",
    "    your_list = '\\t'.join([i[1] for i in reader])\n",
    "    \n",
    "def make_str(x:float) -> float:\n",
    "    return x\n",
    "your_list_str = make_str(your_list)\n",
    "# df = pd.read_csv('@Group23333_tweets_history.csv')\n",
    "# content = df.Content\n",
    "# create a word cloud image\n",
    "\n",
    "\n",
    "wordmap = WordCloud().generate(your_list_str)\n",
    "\n",
    "# display the image\n",
    "plt.imshow(wordcloud,interpolation=\"bilinear\" )\n",
    "plt.axis(\"off\")\n",
    "plt.show()"
   ]
  },
  {
   "cell_type": "code",
   "execution_count": null,
   "metadata": {},
   "outputs": [],
   "source": [
    "# Generating flag-shaped worldmap\n",
    "\n",
    "# Define mask\n",
    "# image link??\n",
    "flag_us_mask = np.array(Image.open(\"img/USflag.png\"))\n",
    "# Should add more flags\n",
    "\n",
    "\n",
    "image_colors = ImageColorGenerator(flag_us_mask)\n",
    "plt.figure(figsize=(10,8))\n",
    "plt.imshow(flag_us.recolor(color_func=image_colors), interpolation=\"bilinear\")\n",
    "plt.axis(\"off\")\n",
    "plt.show()"
   ]
  }
 ],
 "metadata": {
  "kernelspec": {
   "display_name": "Python 3",
   "language": "python",
   "name": "python3"
  },
  "language_info": {
   "codemirror_mode": {
    "name": "ipython",
    "version": 3
   },
   "file_extension": ".py",
   "mimetype": "text/x-python",
   "name": "python",
   "nbconvert_exporter": "python",
   "pygments_lexer": "ipython3",
   "version": "3.6.3"
  }
 },
 "nbformat": 4,
 "nbformat_minor": 2
}
